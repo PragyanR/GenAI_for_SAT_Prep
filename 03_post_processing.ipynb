{
 "cells": [
  {
   "cell_type": "markdown",
   "id": "8625a2f1-b046-4990-a13d-d3dfa7ce8e62",
   "metadata": {},
   "source": [
    "## This file processes the output and coverts to JSON."
   ]
  },
  {
   "cell_type": "code",
   "execution_count": null,
   "id": "449ec1a0-6461-4c09-87ba-bf268cdf9075",
   "metadata": {},
   "outputs": [],
   "source": [
    "import pandas as ps\n",
    "from pandas import DataFrame \n",
    "import json\n",
    "import re\n",
    "import ast"
   ]
  },
  {
   "cell_type": "code",
   "execution_count": 3,
   "id": "bb7507e1-08f3-48ec-8e10-f49752c9b98e",
   "metadata": {},
   "outputs": [],
   "source": [
    "output = ps.read_csv(\"./rag.csv\")"
   ]
  },
  {
   "cell_type": "code",
   "execution_count": 6,
   "id": "c6d67137-ef45-491a-a847-8a3872f59319",
   "metadata": {},
   "outputs": [],
   "source": [
    "data = []\n",
    "for index, row in output.iterrows():\n",
    "    word = row['word']\n",
    "    genre = row['genre']\n",
    "    try:\n",
    "        question = row['formatted_text'].strip()\n",
    "        \n",
    "        # if word not included, ignore the response\n",
    "        if question.find(\" ________________ \") == -1:\n",
    "            continue\n",
    "\n",
    "        #print(\"Before: {}\".format(question))\n",
    "        question = re.sub(r'\\r?\\n',' ',question)\n",
    "        question = re.sub(r' +',' ',question).strip()\n",
    "\n",
    "        # format question\n",
    "        if question.find(\"The paragraph should be\") != -1:\n",
    "            sp = question.split('.')\n",
    "            sp.pop(0)\n",
    "            question = \".\".join(sp)\n",
    "        \n",
    "        if question.find(\"Here is the paragraph:\") != -1:\n",
    "            sp = question.split(':')\n",
    "            sp.pop(0)\n",
    "            question = \":\".join(sp)\n",
    "\n",
    "        choices_with_def = row['answer_choices']\n",
    "        choices_with_def_array = ast.literal_eval(choices_with_def)\n",
    "\n",
    "        answer_choices = []\n",
    "        for key in  choices_with_def_array:\n",
    "            answer_choices.append(key)\n",
    "\n",
    "        row_output = {\n",
    "            \"word\": word,\n",
    "            \"genre\": genre, \n",
    "            \"semantic_score\": row['semantic_score'],\n",
    "            \"prompt\": row['prompt'], \n",
    "            \"question\": question, \n",
    "            \"ans_choices\": answer_choices,\n",
    "            \"ans_choices_with_def\": choices_with_def_array,\n",
    "            \"validation_output\": row['validation_output'], \n",
    "            \"transition_score\":row['transition_score'], \n",
    "            \"is_valid\":row['is_valid']\n",
    "        }\n",
    "        \n",
    "        data.append(json.dumps(row_output))\n",
    "    except Exception as err:\n",
    "        print(Exception, err)\n",
    " "
   ]
  },
  {
   "cell_type": "code",
   "execution_count": 7,
   "id": "26f12322-55b3-4f0e-9e14-0e4c0e9c45b3",
   "metadata": {},
   "outputs": [],
   "source": [
    "with open(\"questions.jsonl\", \"w\") as f:\n",
    "    for i in range(len(data)):\n",
    "        f.write(data[i])\n",
    "        f.write('\\n')"
   ]
  },
  {
   "cell_type": "code",
   "execution_count": 8,
   "id": "c37e3c7a-d388-4366-8ac2-a1315eae2eac",
   "metadata": {},
   "outputs": [
    {
     "name": "stdout",
     "output_type": "stream",
     "text": [
      "{\"word\": \"impasse\", \"genre\": \"korean war\", \"semantic_score\": 0.560485957, \"prompt\": \"Given the meaning of the word impasse: a situation in which a conflict or problem cannot be resolved because of a lack of agreement or a stale; Generate a paragraph on korean war with the word impasse in it. Make sure your paragraph is one single paragraph that is formally worded. If you are done generating the paragraph, stop. Make sure to use the given word impasse as is and only use it once.\", \"question\": \"The Korean War, which lasted from 1950 to 1953, was a stalemate that reached an ________________ in the early 1950s. The war began when North Korean forces, backed by China and the Soviet Union, crossed the 38th parallel and invaded South Korea, prompting a response from the United Nations and the United States.\", \"ans_choices\": [\"breakthrough\", \"blanch\", \"sycophant\", \"impasse\"], \"ans_choices_with_def\": {\"breakthrough\": \"a sudden and significant improvement or discovery in a particular area of study or activity\", \"blanch\": \"given below:\\nblanch: to make something white or pale by removing its color or by exposing it\", \"sycophant\": \"a person who tries to win favor by flattering someone, often in a way that is insincere\", \"impasse\": \"a situation in which a conflict or problem cannot be resolved because of a lack of agreement or a stale\"}, \"validation_output\": \" The war ended with the signing of the Armistice Agreement in 1953, which established a demilitarized zone along the 38th parallel and brought a temporary halt to hostilities.\\n\\nAnswer: yes. The word \\\"impasse\\\" is the most logical and precise word in this paragraph because it accurately describes the situation where the war reached a point where neither side could gain a decisive advantage, and the conflict became stuck or stalled. The word \\\"stalemate\\\" is also used to\", \"transition_score\": -4.327e-05, \"is_valid\": true}\n"
     ]
    }
   ],
   "source": [
    "print(data[0])"
   ]
  }
 ],
 "metadata": {
  "kernelspec": {
   "display_name": "Python 3 (ipykernel)",
   "language": "python",
   "name": "python3"
  },
  "language_info": {
   "codemirror_mode": {
    "name": "ipython",
    "version": 3
   },
   "file_extension": ".py",
   "mimetype": "text/x-python",
   "name": "python",
   "nbconvert_exporter": "python",
   "pygments_lexer": "ipython3",
   "version": "3.11.3"
  }
 },
 "nbformat": 4,
 "nbformat_minor": 5
}
