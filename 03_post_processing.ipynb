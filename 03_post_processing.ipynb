{
 "cells": [
  {
   "cell_type": "code",
   "execution_count": 146,
   "id": "b329c2f4-7dc3-4103-a137-735c1b525960",
   "metadata": {},
   "outputs": [],
   "source": [
    "import pandas as ps\n",
    "from pandas import DataFrame \n",
    "import json\n",
    "import re"
   ]
  },
  {
   "cell_type": "code",
   "execution_count": 83,
   "id": "bb7507e1-08f3-48ec-8e10-f49752c9b98e",
   "metadata": {},
   "outputs": [
    {
     "name": "stdout",
     "output_type": "stream",
     "text": [
      "Index(['Unnamed: 0', 'word', 'genre', 'complete_response', 'generated_text',\n",
      "       'answer_choices', 'probability', 'full_word_tokenized', 'is_valid'],\n",
      "      dtype='object')\n"
     ]
    }
   ],
   "source": [
    "output = ps.read_csv(\"./website/output_rag_for_website.csv\")\n",
    "print(output.columns)"
   ]
  },
  {
   "cell_type": "code",
   "execution_count": 84,
   "id": "41ab6dd9-3d1c-4efe-8d5d-b1ff18deaff6",
   "metadata": {},
   "outputs": [
    {
     "name": "stdout",
     "output_type": "stream",
     "text": [
      "Index(['genre', 'word', 'similarity_score', 'definition', 'answer_choices'], dtype='object')\n"
     ]
    }
   ],
   "source": [
    "semantic_eval = ps.read_csv(\"./website/semantic_eval_1000_word_genre.csv\")\n",
    "print(semantic_eval.columns)"
   ]
  },
  {
   "cell_type": "code",
   "execution_count": 85,
   "id": "ab49548d-ed71-4208-97fb-1e5fd4d64b0b",
   "metadata": {},
   "outputs": [
    {
     "name": "stdout",
     "output_type": "stream",
     "text": [
      "    word part_of_speech                                         definition\n",
      "0  Abate              v  to reduce in amount, degree, or severity; The ...\n"
     ]
    }
   ],
   "source": [
    "word_def = ps.read_csv(\"./website/sat_words_with_definition.csv\")\n",
    "print(word_def.head(1))"
   ]
  },
  {
   "cell_type": "code",
   "execution_count": 155,
   "id": "c6d67137-ef45-491a-a847-8a3872f59319",
   "metadata": {},
   "outputs": [
    {
     "name": "stdout",
     "output_type": "stream",
     "text": [
      "<class 'Exception'> index 0 is out of bounds for axis 0 with size 0\n",
      "<class 'Exception'> invalid syntax (<unknown>, line 1)\n",
      "<class 'Exception'> 'float' object has no attribute 'strip'\n",
      "<class 'Exception'> index 0 is out of bounds for axis 0 with size 0\n",
      "<class 'Exception'> invalid syntax (<unknown>, line 1)\n"
     ]
    }
   ],
   "source": [
    "data = []\n",
    "for index, row in output.iterrows():\n",
    "    word = row['word']\n",
    "    genre = row['genre']\n",
    "    try:\n",
    "        question = row['generated_text'].strip()\n",
    "        \n",
    "        # if word not included, ignore the response\n",
    "        if question.find(\" ________________ \") == -1:\n",
    "            continue\n",
    "\n",
    "        #print(\"Before: {}\".format(question))\n",
    "        question = re.sub(r'\\r?\\n',' ',question)\n",
    "        question = re.sub(r' +',' ',question).strip()\n",
    "\n",
    "        # format question\n",
    "        if question.find(\"The paragraph should be\") != -1:\n",
    "            sp = question.split('.')\n",
    "            sp.pop(0)\n",
    "            question = \".\".join(sp)\n",
    "        \n",
    "        if question.find(\"Here is the paragraph:\") != -1:\n",
    "            sp = question.split(':')\n",
    "            sp.pop(0)\n",
    "            question = \":\".join(sp)\n",
    "\n",
    "        #print(question.find(\"Here is the paragraph:\"))\n",
    "        #print(\"After: {}\".format(question))\n",
    "        \n",
    "        definition = word_def.query('word.str.lower() == \"{}\"'.format(word))['definition'].item()\n",
    "    \n",
    "        # format prompt\n",
    "        prompt = '''Given the meaning of the word {}: {}, Generate a paragraph on {} with the word {}. Make sure your paragraph is one single paragraph that is formally worded. If you are done generating the paragraph, stop. Make sure to use the given word \"{}\" as is and only use the word \"{}\" once. The paragraph should be a formal description of {}.'''.format(word, definition, genre, word, word, word, genre)\n",
    "\n",
    "        answer_choices = row['answer_choices'].split(\",\")\n",
    "        answer_choices_with_def={}\n",
    "        for i in range (len(answer_choices)):\n",
    "            choice = answer_choices[i]\n",
    "            result = word_def.query('word.str.lower() == \"{}\"'.format(choice))\n",
    "            choice_def = result['definition'].values[0]\n",
    "            answer_choices_with_def[choice] = choice_def  \n",
    "        #print(answer_choices_with_def)\n",
    "    \n",
    "        score = semantic_eval.query('word.str.lower() == \"{}\" and genre.str.lower() == \"{}\"'.format(word, genre))\n",
    "        semantic_score = score['similarity_score'].values[0]\n",
    "        \n",
    "        row_output = {\n",
    "            \"word\": word,\n",
    "            \"genre\": genre, \n",
    "            \"semantic_score\": semantic_score,\n",
    "            \"prompt\": prompt, \n",
    "            \"question\": question, \n",
    "            \"ans_choices\": answer_choices,\n",
    "            \"ans_choices_def\":answer_choices_with_def, \n",
    "            \"probability\":row['probability'],  \n",
    "            \"tokenization\":row['full_word_tokenized'], \n",
    "            \"is_valid\":row['is_valid']\n",
    "        }\n",
    "        \n",
    "        data.append(json.dumps(row_output))\n",
    "\n",
    "    except Exception as err:\n",
    "        print(Exception, err)\n",
    "\n"
   ]
  },
  {
   "cell_type": "code",
   "execution_count": 156,
   "id": "8b8783e8-02c4-4a46-8852-4ce8255f2575",
   "metadata": {},
   "outputs": [
    {
     "name": "stdout",
     "output_type": "stream",
     "text": [
      "835\n"
     ]
    }
   ],
   "source": [
    "print(len(data))"
   ]
  },
  {
   "cell_type": "code",
   "execution_count": 157,
   "id": "26f12322-55b3-4f0e-9e14-0e4c0e9c45b3",
   "metadata": {},
   "outputs": [],
   "source": [
    "with open(\"./website/questions.jsonl\", \"w\") as f:\n",
    "    for i in range(len(data)):\n",
    "        f.write(data[i])\n",
    "        f.write('\\n')"
   ]
  }
 ],
 "metadata": {
  "kernelspec": {
   "display_name": "Python 3 (ipykernel)",
   "language": "python",
   "name": "python3"
  },
  "language_info": {
   "codemirror_mode": {
    "name": "ipython",
    "version": 3
   },
   "file_extension": ".py",
   "mimetype": "text/x-python",
   "name": "python",
   "nbconvert_exporter": "python",
   "pygments_lexer": "ipython3",
   "version": "3.10.12"
  }
 },
 "nbformat": 4,
 "nbformat_minor": 5
}
